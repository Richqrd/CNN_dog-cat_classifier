{
 "cells": [
  {
   "cell_type": "code",
   "execution_count": null,
   "id": "ca3110f6",
   "metadata": {},
   "outputs": [],
   "source": [
    "# A basic notebook used to test model predictions\n",
    "# Models can be substituted here to test"
   ]
  },
  {
   "cell_type": "code",
   "execution_count": 1,
   "id": "9dff17fd",
   "metadata": {},
   "outputs": [],
   "source": [
    "# setup\n",
    "\n",
    "import cv2\n",
    "import numpy as np\n",
    "import os\n",
    "from random import shuffle\n",
    "from tqdm import tqdm\n",
    "from tensorflow.keras.preprocessing.image import ImageDataGenerator, load_img, img_to_array, array_to_img\n",
    "import glob\n",
    "import shutil\n",
    "import matplotlib.pyplot as plt\n",
    "import tensorflow\n",
    "from tensorflow.keras.applications.resnet50 import ResNet50\n",
    "from tensorflow.keras.models import Model\n",
    "import keras\n",
    "from sklearn.preprocessing import LabelEncoder\n",
    "%matplotlib inline\n",
    "\n",
    "IMG_SIZE = 300\n",
    "IMG_DIM = (IMG_SIZE, IMG_SIZE)"
   ]
  },
  {
   "cell_type": "code",
   "execution_count": 2,
   "id": "b03f0648",
   "metadata": {},
   "outputs": [
    {
     "name": "stdout",
     "output_type": "stream",
     "text": [
      "Metal device set to: Apple M2\n"
     ]
    },
    {
     "name": "stderr",
     "output_type": "stream",
     "text": [
      "2022-08-19 20:36:34.337175: I tensorflow/core/common_runtime/pluggable_device/pluggable_device_factory.cc:305] Could not identify NUMA node of platform GPU ID 0, defaulting to 0. Your kernel may not have been built with NUMA support.\n",
      "2022-08-19 20:36:34.337259: I tensorflow/core/common_runtime/pluggable_device/pluggable_device_factory.cc:271] Created TensorFlow device (/job:localhost/replica:0/task:0/device:GPU:0 with 0 MB memory) -> physical PluggableDevice (device: 0, name: METAL, pci bus id: <undefined>)\n"
     ]
    }
   ],
   "source": [
    "model = keras.models.load_model('models/dogsvscats-2e-05-resnet.model')"
   ]
  },
  {
   "cell_type": "code",
   "execution_count": 3,
   "id": "8f223d18",
   "metadata": {},
   "outputs": [],
   "source": [
    "# functions for model predictions\n",
    "\n",
    "def get_photo(path):\n",
    "    train_imgs = []\n",
    "    train_imgs.append(img_to_array(load_img(path, target_size=IMG_DIM)))\n",
    "    process = np.array(train_imgs)\n",
    "    process = tensorflow.keras.applications.resnet50.preprocess_input(process)\n",
    "    return process\n",
    "\n",
    "def predict(path):\n",
    "    return model.predict( get_photo(path) )"
   ]
  },
  {
   "cell_type": "code",
   "execution_count": 5,
   "id": "5d496bd0",
   "metadata": {},
   "outputs": [
    {
     "name": "stdout",
     "output_type": "stream",
     "text": [
      "1/1 [==============================] - 0s 30ms/step\n"
     ]
    },
    {
     "data": {
      "text/plain": [
       "array([[1.]], dtype=float32)"
      ]
     },
     "execution_count": 5,
     "metadata": {},
     "output_type": "execute_result"
    }
   ],
   "source": [
    "predict('data/custom/unknown-1.jpeg')"
   ]
  },
  {
   "cell_type": "code",
   "execution_count": null,
   "id": "5c0eef47",
   "metadata": {},
   "outputs": [],
   "source": []
  }
 ],
 "metadata": {
  "kernelspec": {
   "display_name": "Python 3 (ipykernel)",
   "language": "python",
   "name": "python3"
  },
  "language_info": {
   "codemirror_mode": {
    "name": "ipython",
    "version": 3
   },
   "file_extension": ".py",
   "mimetype": "text/x-python",
   "name": "python",
   "nbconvert_exporter": "python",
   "pygments_lexer": "ipython3",
   "version": "3.10.5"
  }
 },
 "nbformat": 4,
 "nbformat_minor": 5
}
